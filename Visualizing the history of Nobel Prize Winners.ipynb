{
 "cells": [
  {
   "cell_type": "code",
   "execution_count": null,
   "metadata": {},
   "outputs": [],
   "source": [
    "Visualizing the History of Nobel Prize Winners"
   ]
  },
  {
   "cell_type": "markdown",
   "metadata": {},
   "source": [
    "Project Description\n",
    "The Nobel Prize is awarded yearly to scientists and scholars in chemistry, literature, physics, medicine, economics, and peace, with the first prize awarded in 1901. Are there any biases in the way the honors are awarded? Use your data manipulation and visualization skills to explore the history of this coveted prize."
   ]
  },
  {
   "cell_type": "markdown",
   "metadata": {},
   "source": [
    "The Nobel Prize has been among the most prestigious international awards since 1901. Each year, awards are bestowed in chemistry, literature, physics, physiology or medicine, economics, and peace. In addition to the honor, prestige, and substantial prize money, the recipient also gets a gold medal with an image of Alfred Nobel (1833 - 1896), who established the prize.\n",
    "\n",
    "The Nobel Foundation has made a dataset available of all prize winners from the outset of the awards from 1901 to 2023. The dataset used in this project is from the Nobel Prize API and is available in the nobel.csv file in the data folder.\n",
    "\n",
    "In this project, you'll get a chance to explore and answer several questions related to this prizewinning data. And we encourage you then to explore further questions that you're interested in!"
   ]
  },
  {
   "cell_type": "code",
   "execution_count": null,
   "metadata": {},
   "outputs": [],
   "source": [
    "Step1 Load the dataset and find the most common gender and birth country\n",
    "Load the dataset into a DataFrame using pandas and then extract the top values from sex and birth_country."
   ]
  },
  {
   "cell_type": "code",
   "execution_count": null,
   "metadata": {
    "vscode": {
     "languageId": "plaintext"
    }
   },
   "outputs": [],
   "source": [
    "# Loading in required libraries\n",
    "import pandas as pd\n",
    "import seaborn as sns\n",
    "import numpy as np\n",
    "\n",
    "# Read in the Nobel Prize data\n",
    "nobel = pd.read_csv('data/nobel.csv')\n",
    "\n",
    "# Store and display the most commonly awarded gender and birth country in requested variables\n",
    "top_gender = nobel['sex'].value_counts().index[0]\n",
    "top_country = nobel['birth_country'].value_counts().index[0]\n",
    "\n",
    "print(\"\\n The gender with the most Nobel laureates is :\", top_gender)\n",
    "print(\" The most common birth country of Nobel laureates is :\", top_country)"
   ]
  },
  {
   "cell_type": "markdown",
   "metadata": {},
   "source": [
    "Step2 Identify the decade with the highest proportion of US-born winners\n",
    "To calculate the proportion, first create a column that creates a flag for winners whose birth country is \"United States of America\", then create a decade column, and use both to find the proportion."
   ]
  },
  {
   "cell_type": "code",
   "execution_count": null,
   "metadata": {
    "vscode": {
     "languageId": "plaintext"
    }
   },
   "outputs": [],
   "source": [
    "# Calculate the proportion of USA born winners per decade\n",
    "nobel['usa_born_winner'] = nobel['birth_country'] == 'United States of America'\n",
    "nobel['decade'] = (np.floor(nobel['year'] / 10) * 10).astype(int)\n",
    "prop_usa_winners = nobel.groupby('decade', as_index=False)['usa_born_winner'].mean()\n",
    "# Calculate the average for a column containing boolean values (True/False) in pandas. The mean() function will calculate the average, treating True as 1 and False as 0.\n",
    "# Finding the proportion\n",
    "# Use groupby() to group by decade, then use .mean() on the US-born winner column. By setting as_index=False, make sure the result is saved as a DataFrame rather than a series.\n"
   ]
  },
  {
   "cell_type": "markdown",
   "metadata": {},
   "source": [
    "print(prop_usa_winners)\n",
    "      decade  usa_born_winner\n",
    "0     1900         0.017544\n",
    "1     1910         0.075000\n",
    "2     1920         0.074074\n",
    "3     1930         0.250000\n",
    "4     1940         0.302326\n",
    "5     1950         0.291667\n",
    "6     1960         0.265823\n",
    "7     1970         0.317308\n",
    "8     1980         0.319588\n",
    "9     1990         0.403846\n",
    "10    2000         0.422764\n",
    "11    2010         0.314050\n",
    "12    2020         0.360000"
   ]
  },
  {
   "cell_type": "code",
   "execution_count": null,
   "metadata": {
    "vscode": {
     "languageId": "plaintext"
    }
   },
   "outputs": [],
   "source": [
    "# Identify the decade with the highest proportion of US-born winners\n",
    "max_decade_usa = prop_usa_winners[prop_usa_winners['usa_born_winner'] == prop_usa_winners['usa_born_winner'].max()]['decade'].values[0]\n",
    "\n",
    "# Plotting USA born winners\n",
    "ax1 = sns.relplot(x='decade', y='usa_born_winner', data=prop_usa_winners, kind=\"line\")"
   ]
  },
  {
   "cell_type": "markdown",
   "metadata": {},
   "source": [
    "Step3 Find the decade and category with the highest proportion of female laureates\n",
    "You can copy and modify your code from the previous tasks to create a DataFrame for the proportion of female winners, then create a dictionary called max_female_dict with the year and category pair with the most female winners."
   ]
  },
  {
   "cell_type": "code",
   "execution_count": null,
   "metadata": {
    "vscode": {
     "languageId": "plaintext"
    }
   },
   "outputs": [],
   "source": [
    "# Calculating the proportion of female laureates per decade\n",
    "nobel['female_winner'] = nobel['sex'] == 'Female'\n",
    "prop_female_winners = nobel.groupby(['decade', 'category'], as_index=False)['female_winner'].mean()\n",
    "\n",
    "# Find the decade and category with the highest proportion of female laureates\n",
    "\n",
    "max_female_decade_category = prop_female_winners[prop_female_winners['female_winner'] == prop_female_winners['female_winner'].max()][['decade', 'category']]\n",
    "\n",
    "# Create a dictionary with the decade and category pair\n",
    "max_female_dict = {max_female_decade_category['decade'].values[0]: max_female_decade_category['category'].values[0]}\n",
    "\n",
    "# Plotting female winners with % winners on the y-axis\n",
    "ax2 = sns.relplot(x='decade', y='female_winner', hue='category', data=prop_female_winners, kind=\"line\")"
   ]
  },
  {
   "cell_type": "markdown",
   "metadata": {},
   "source": [
    "Step4 Find first woman to win a Nobel Prize\n",
    "Filter the DataFrame for the rows with Female winners and find the earliest year and corresponding category in this subset."
   ]
  },
  {
   "cell_type": "code",
   "execution_count": null,
   "metadata": {
    "vscode": {
     "languageId": "plaintext"
    }
   },
   "outputs": [],
   "source": [
    "# Finding the first woman to win a Nobel Prize\n",
    "nobel_women = nobel[nobel['female_winner']]\n",
    "min_row = nobel_women[nobel_women['year'] == nobel_women['year'].min()]\n",
    "first_woman_name = min_row['full_name'].values[0]\n",
    "first_woman_category = min_row['category'].values[0]\n",
    "print(f\"\\n The first woman to win a Nobel Prize was {first_woman_name}, in the category of {first_woman_category}.\")"
   ]
  },
  {
   "cell_type": "markdown",
   "metadata": {},
   "source": [
    "Step5 \n",
    "Determine repeat winners\n",
    "Count the number of times each winner has won, then select those with counts of two or more, saving the full names as a list called repeats."
   ]
  },
  {
   "cell_type": "code",
   "execution_count": null,
   "metadata": {},
   "outputs": [],
   "source": [
    "# Selecting the laureates that have received 2 or more prizes\n",
    "counts = nobel['full_name'].value_counts()\n",
    "repeats = counts[counts >= 2].index\n",
    "repeat_list = list(repeats)\n",
    "\n",
    "print(\"\\n The repeat winners are :\", repeat_list)"
   ]
  }
 ],
 "metadata": {
  "language_info": {
   "name": "python"
  }
 },
 "nbformat": 4,
 "nbformat_minor": 2
}
